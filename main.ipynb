{
 "cells": [
  {
   "cell_type": "markdown",
   "id": "136b5d61",
   "metadata": {},
   "source": [
    "### Import Dataset"
   ]
  },
  {
   "cell_type": "code",
   "execution_count": null,
   "id": "80bc5f0c",
   "metadata": {},
   "outputs": [],
   "source": [
    "import numpy as np\n",
    "import pandas as pd\n",
    "import os\n",
    "import matplotlib.pyplot as plt\n",
    "import matplotlib.image as mpimg\n",
    "\n",
    "data_dir = '/kaggle/input/skin-cancer-binary-classification-dataset/Skin_Data'\n",
    "cancer_train_dir = os.path.join(data_dir, 'Cancer', 'Training')\n",
    "cancer_test_dir = os.path.join(data_dir, 'Cancer', 'Testing')\n",
    "non_cancer_train_dir = os.path.join(data_dir, 'Non_Cancer', 'Training')\n",
    "non_cancer_test_dir = os.path.join(data_dir, 'Non_Cancer', 'Testing')\n",
    "\n",
    "cancer_train_files = [os.path.join(cancer_train_dir, f) for f in os.listdir(cancer_train_dir) if f.lower().endswith(('.jpg', '.jpeg'))]\n",
    "non_cancer_train_files = [os.path.join(non_cancer_train_dir, f) for f in os.listdir(non_cancer_train_dir) if f.lower().endswith(('.jpg', '.jpeg'))]\n",
    "\n",
    "cancer_test_files = [os.path.join(cancer_test_dir, f) for f in os.listdir(cancer_test_dir) if f.lower().endswith(('.jpg', '.jpeg'))]\n",
    "non_cancer_test_files = [os.path.join(non_cancer_test_dir, f) for f in os.listdir(non_cancer_test_dir) if f.lower().endswith(('.jpg', '.jpeg'))]\n",
    "\n",
    "train_labels_cancer = [1] * len(cancer_train_files)\n",
    "train_labels_non_cancer = [0] * len(non_cancer_train_files)\n",
    "test_labels_cancer = [1] * len(cancer_test_files)\n",
    "test_labels_non_cancer = [0] * len(non_cancer_test_files)\n",
    "\n",
    "train_files = cancer_train_files + non_cancer_train_files\n",
    "train_labels = train_labels_cancer + train_labels_non_cancer\n",
    "test_files = cancer_test_files + non_cancer_test_files\n",
    "test_labels = test_labels_cancer + test_labels_non_cancer\n",
    "\n",
    "print(\"Number of Cancer training files:\", len(cancer_train_files))\n",
    "print(\"Number of Non-Cancer training files:\", len(non_cancer_train_files))\n",
    "print(\"Number of Cancer testing files:\", len(cancer_test_files))\n",
    "print(\"Number of Non-Cancer testing files:\", len(non_cancer_test_files))\n",
    "\n",
    "plt.figure(figsize=(10, 10))\n",
    "\n",
    "# Example Cancer training image\n",
    "plt.subplot(2, 2, 1)\n",
    "if cancer_train_files:\n",
    "    img = mpimg.imread(cancer_train_files[1])\n",
    "    plt.imshow(img)\n",
    "    plt.title(\"Example Cancer Training Image\")\n",
    "    plt.axis('off')\n",
    "else:\n",
    "    plt.text(0.5, 0.5, \"No Cancer training files\", ha='center', va='center')\n",
    "    plt.axis('off')\n",
    "\n",
    "# Example Non-Cancer training image\n",
    "plt.subplot(2, 2, 2)\n",
    "if non_cancer_train_files:\n",
    "    img = mpimg.imread(non_cancer_train_files[0])\n",
    "    plt.imshow(img)\n",
    "    plt.title(\"Example Non-Cancer Training Image\")\n",
    "    plt.axis('off')\n",
    "else:\n",
    "    plt.text(0.5, 0.5, \"No Non-Cancer training files\", ha='center', va='center')\n",
    "    plt.axis('off')\n",
    "\n",
    "# Example Cancer testing image\n",
    "plt.subplot(2, 2, 3)\n",
    "if cancer_test_files:\n",
    "    img = mpimg.imread(cancer_test_files[0])\n",
    "    plt.imshow(img)\n",
    "    plt.title(\"Example Cancer Testing Image\")\n",
    "    plt.axis('off')\n",
    "else:\n",
    "    plt.text(0.5, 0.5, \"No Cancer testing files\", ha='center', va='center')\n",
    "    plt.axis('off')\n",
    "\n",
    "# Example Non-Cancer testing image\n",
    "plt.subplot(2, 2, 4)\n",
    "if non_cancer_test_files:\n",
    "    img = mpimg.imread(non_cancer_test_files[0])\n",
    "    plt.imshow(img)\n",
    "    plt.title(\"Example Non-Cancer Testing Image\")\n",
    "    plt.axis('off')\n",
    "else:\n",
    "    plt.text(0.5, 0.5, \"No Non-Cancer testing files\", ha='center', va='center')\n",
    "    plt.axis('off')\n",
    "\n",
    "plt.tight_layout()\n",
    "plt.show()"
   ]
  },
  {
   "cell_type": "markdown",
   "id": "420f6681",
   "metadata": {},
   "source": [
    "### Preprocessing"
   ]
  },
  {
   "cell_type": "code",
   "execution_count": null,
   "id": "09086135",
   "metadata": {},
   "outputs": [],
   "source": []
  },
  {
   "cell_type": "markdown",
   "id": "0b6b9dfa",
   "metadata": {},
   "source": [
    "### Feature Extraction"
   ]
  },
  {
   "cell_type": "code",
   "execution_count": null,
   "id": "034f0622",
   "metadata": {},
   "outputs": [],
   "source": []
  },
  {
   "cell_type": "markdown",
   "id": "b98793fc",
   "metadata": {},
   "source": [
    "### Models setup"
   ]
  },
  {
   "cell_type": "code",
   "execution_count": null,
   "id": "b99a4e07",
   "metadata": {},
   "outputs": [],
   "source": []
  },
  {
   "cell_type": "markdown",
   "id": "6a06aae9",
   "metadata": {},
   "source": [
    "### Evaluation"
   ]
  },
  {
   "cell_type": "markdown",
   "id": "f280652f",
   "metadata": {},
   "source": []
  }
 ],
 "metadata": {
  "language_info": {
   "name": "python"
  }
 },
 "nbformat": 4,
 "nbformat_minor": 5
}
